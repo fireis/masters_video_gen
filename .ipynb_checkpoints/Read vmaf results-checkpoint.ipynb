{
 "cells": [
  {
   "cell_type": "code",
   "execution_count": 12,
   "metadata": {},
   "outputs": [],
   "source": [
    "import pandas as pd\n",
    "import numpy as np\n",
    "import json"
   ]
  },
  {
   "cell_type": "code",
   "execution_count": 13,
   "metadata": {},
   "outputs": [],
   "source": [
    "def read_vmaf_json(result_path):\n",
    "    with open(result_path, 'r') as f:\n",
    "        return json.load(f)"
   ]
  },
  {
   "cell_type": "code",
   "execution_count": 17,
   "metadata": {},
   "outputs": [
    {
     "name": "stdout",
     "output_type": "stream",
     "text": [
      "             10     20     30     40\n",
      "frameNum  194.5  194.5  194.5  194.5\n"
     ]
    }
   ],
   "source": [
    "results_df = pd.DataFrame()\n",
    "for epoch in range(10, 71, 10):\n",
    "    results_path = \"/Users/fireis/Documents/masters/vmaf/vmaf_e{0}.json\".format(epoch)    \n",
    "    mean_results = pd.DataFrame.from_dict(read_vmaf_json(results_path)[\"frames\"]).mean()\n",
    "    results_df[epoch] = mean_results\n",
    "        \n",
    "print(results_df)"
   ]
  },
  {
   "cell_type": "code",
   "execution_count": 15,
   "metadata": {},
   "outputs": [
    {
     "data": {
      "text/plain": [
       "<matplotlib.axes._subplots.AxesSubplot at 0x117259ba8>"
      ]
     },
     "execution_count": 15,
     "metadata": {},
     "output_type": "execute_result"
    },
    {
     "data": {
      "image/png": "[encoded data removed]",
      "text/plain": [
       "<Figure size 432x288 with 1 Axes>"
      ]
     },
     "metadata": {
      "needs_background": "light"
     },
     "output_type": "display_data"
    }
   ],
   "source": [
    "results_df = results_df.T\n",
    "results_df.plot.bar(y=\"VMAF_score\", title=\"Evolution of Score over Epochs\")"
   ]
  },
  {
   "cell_type": "code",
   "execution_count": 22,
   "metadata": {},
   "outputs": [
    {
     "name": "stdout",
     "output_type": "stream",
     "text": [
      "10\n",
      "20\n",
      "30\n",
      "40\n",
      "        adm2   motion2   ms_ssim       psnr      ssim  vif_scale0  vif_scale1  \\\n",
      "10  0.613842  0.178494  0.835064  25.370226  0.876034    0.413297    0.512299   \n",
      "20  0.551764  0.168685  0.769470  23.902797  0.877587    0.428980    0.477635   \n",
      "30  0.714857  0.399085  0.879520  28.167327  0.912314    0.465653    0.562278   \n",
      "40  0.722337  0.379951  0.883057  28.526647  0.914038    0.472478    0.573541   \n",
      "\n",
      "    vif_scale2  vif_scale3       vmaf  \n",
      "10    0.535771    0.558024   3.711874  \n",
      "20    0.484863    0.486630   0.616971  \n",
      "30    0.600645    0.635601  19.717986  \n",
      "40    0.612742    0.649066  21.441175  \n"
     ]
    }
   ],
   "source": [
    "from pandas.io.json import json_normalize    \n",
    "\n",
    "results_emo_train_df = pd.DataFrame()\n",
    "for epoch in range(10, 41, 10):\n",
    "    results_path = \"/Users/fireis/Documents/masters/vmaf/t07_epo{0}_00001.json\".format(epoch)    \n",
    "    frames = read_vmaf_json(results_path)[\"frames\"]\n",
    "    df_frames = pd.DataFrame.from_dict(frames)[\"metrics\"]\n",
    "    #for frame in df_frames\n",
    "    df_frames = df_frames\n",
    "    count = 0\n",
    "    new_df = pd.DataFrame()\n",
    "    for frame in df_frames:\n",
    "        new_df = new_df.append(pd.DataFrame.from_dict(frame, orient='index').T)\n",
    "    results_emo_train_df[epoch] = new_df.mean()\n",
    "results_emo_train_df = results_emo_train_df.T\n",
    "print(results_emo_train_df)\n"
   ]
  },
  {
   "cell_type": "code",
   "execution_count": 23,
   "metadata": {},
   "outputs": [
    {
     "data": {
      "text/plain": [
       "<matplotlib.axes._subplots.AxesSubplot at 0x1176f6518>"
      ]
     },
     "execution_count": 23,
     "metadata": {},
     "output_type": "execute_result"
    },
    {
     "data": {
      "image/png": "[encoded data removed]",
      "text/plain": [
       "<Figure size 432x288 with 1 Axes>"
      ]
     },
     "metadata": {
      "needs_background": "light"
     },
     "output_type": "display_data"
    }
   ],
   "source": [
    "results_emo_train_df.plot.bar(y=\"vmaf\", title=\"VMAF Scores Epochs\")"
   ]
  },
  {
   "cell_type": "code",
   "execution_count": 24,
   "metadata": {},
   "outputs": [
    {
     "data": {
      "text/plain": [
       "<matplotlib.axes._subplots.AxesSubplot at 0x117ad0588>"
      ]
     },
     "execution_count": 24,
     "metadata": {},
     "output_type": "execute_result"
    },
    {
     "data": {
      "image/png": "[encoded data removed]",
      "text/plain": [
       "<Figure size 432x288 with 1 Axes>"
      ]
     },
     "metadata": {
      "needs_background": "light"
     },
     "output_type": "display_data"
    }
   ],
   "source": [
    "results_emo_train_df.plot.bar(y=\"ssim\", title=\"SSIM Scores for Epochs\")"
   ]
  },
  {
   "cell_type": "code",
   "execution_count": 20,
   "metadata": {},
   "outputs": [
    {
     "name": "stdout",
     "output_type": "stream",
     "text": [
      "       adm2   motion2   ms_ssim       psnr      ssim  vif_scale0  vif_scale1  \\\n",
      "1  0.699848  0.382296  0.879505  28.280424  0.912949    0.465342    0.564615   \n",
      "2  0.641266  0.394453  0.841045  26.105568  0.893021    0.421256    0.488061   \n",
      "3  0.710106  0.388560  0.891140  28.404106  0.915674    0.465272    0.563748   \n",
      "4  0.700853  0.385491  0.898645  28.596449  0.917056    0.468937    0.559444   \n",
      "5  0.669724  0.352804  0.881545  27.753626  0.906244    0.446203    0.525587   \n",
      "6  0.682847  0.431498  0.886242  28.225698  0.911696    0.463997    0.554559   \n",
      "7  0.666448  0.497759  0.869779  27.257734  0.903275    0.445911    0.525040   \n",
      "8  0.631208  0.481194  0.844734  26.498481  0.894122    0.433772    0.501361   \n",
      "\n",
      "   vif_scale2  vif_scale3       vmaf  \n",
      "1    0.602575    0.635628  16.807752  \n",
      "2    0.517621    0.548906   3.526818  \n",
      "3    0.603409    0.641094  16.654181  \n",
      "4    0.599334    0.641889  13.117586  \n",
      "5    0.562340    0.607553   7.084574  \n",
      "6    0.593177    0.633051  13.068476  \n",
      "7    0.560284    0.599370   8.170969  \n",
      "8    0.530053    0.560790   4.697193  \n"
     ]
    }
   ],
   "source": [
    "from pandas.io.json import json_normalize    \n",
    "\n",
    "results_emo_train_df = pd.DataFrame()\n",
    "for vid in range(1, 9, 1):\n",
    "    results_path = \"/Users/fireis/Documents/masters/test_07/analysis_t07_carol/syn_44/e44_0000{0}.json\".format(vid)    \n",
    "    frames = read_vmaf_json(results_path)[\"frames\"]\n",
    "    df_frames = pd.DataFrame.from_dict(frames)[\"metrics\"]\n",
    "    #for frame in df_frames\n",
    "    df_frames = df_frames\n",
    "    count = 0\n",
    "    new_df = pd.DataFrame()\n",
    "    for frame in df_frames:\n",
    "        new_df = new_df.append(pd.DataFrame.from_dict(frame, orient='index').T)\n",
    "    results_emo_train_df[vid] = new_df.mean()\n",
    "results_emo_train_df = results_emo_train_df.T\n",
    "print(results_emo_train_df)\n",
    "        \n",
    "        \n",
    "        "
   ]
  },
  {
   "cell_type": "code",
   "execution_count": 6,
   "metadata": {},
   "outputs": [
    {
     "data": {
      "text/plain": [
       "<matplotlib.axes._subplots.AxesSubplot at 0x116f60780>"
      ]
     },
     "execution_count": 6,
     "metadata": {},
     "output_type": "execute_result"
    },
    {
     "data": {
      "image/png": "[encoded data removed]",
      "text/plain": [
       "<Figure size 432x288 with 1 Axes>"
      ]
     },
     "metadata": {
      "needs_background": "light"
     },
     "output_type": "display_data"
    }
   ],
   "source": [
    "results_emo_train_df.plot.bar(y=\"vmaf\", title=\"Scores for Training Videos\")"
   ]
  },
  {
   "cell_type": "code",
   "execution_count": null,
   "metadata": {},
   "outputs": [],
   "source": [
    "results_emo_train_df.plot.bar(y=\"ssim\", title=\"Scores for Training Videos\")"
   ]
  },
  {
   "cell_type": "code",
   "execution_count": 7,
   "metadata": {},
   "outputs": [
    {
     "data": {
      "text/plain": [
       "<matplotlib.axes._subplots.AxesSubplot at 0x11701feb8>"
      ]
     },
     "execution_count": 7,
     "metadata": {},
     "output_type": "execute_result"
    },
    {
     "data": {
      "image/png": "[encoded data removed]",
      "text/plain": [
       "<Figure size 432x288 with 1 Axes>"
      ]
     },
     "metadata": {
      "needs_background": "light"
     },
     "output_type": "display_data"
    }
   ],
   "source": [
    "results_emo_train_df.plot.bar(y=\"ssim\", title=\"Scores for Training Videos\")"
   ]
  },
  {
   "cell_type": "code",
   "execution_count": 8,
   "metadata": {},
   "outputs": [
    {
     "name": "stdout",
     "output_type": "stream",
     "text": [
      "       adm2   motion2   ms_ssim       psnr      ssim  vif_scale0  vif_scale1  \\\n",
      "1  0.605160  0.379933  0.801101  25.570606  0.881762    0.417164    0.478036   \n",
      "2  0.610466  0.406293  0.821471  25.655775  0.884885    0.410279    0.473008   \n",
      "3  0.644085  0.382947  0.837380  26.390308  0.893783    0.426050    0.498173   \n",
      "4  0.794177  0.304542  0.952432  32.056308  0.945842    0.536089    0.662770   \n",
      "5  0.726486  0.349378  0.914024  29.619814  0.924141    0.487582    0.587804   \n",
      "6  0.722823  0.402892  0.907821  29.171663  0.922404    0.477045    0.572557   \n",
      "7  0.698583  0.418413  0.874136  28.043062  0.911484    0.461338    0.546470   \n",
      "8  0.623626  0.449094  0.818250  25.528455  0.886604    0.414814    0.470400   \n",
      "9  0.633267  0.455955  0.819133  25.516742  0.887721    0.418411    0.474510   \n",
      "\n",
      "   vif_scale2  vif_scale3       vmaf  \n",
      "1    0.499628    0.518403   6.149929  \n",
      "2    0.499892    0.526721   2.973127  \n",
      "3    0.528138    0.557538   6.463490  \n",
      "4    0.712823    0.757944  31.686029  \n",
      "5    0.630555    0.673267  17.080033  \n",
      "6    0.613989    0.656378  16.469444  \n",
      "7    0.581671    0.616213  13.872767  \n",
      "8    0.493335    0.518120   2.308532  \n",
      "9    0.497552    0.522070   2.989803  \n"
     ]
    }
   ],
   "source": [
    "from pandas.io.json import json_normalize    \n",
    "\n",
    "t08_df = pd.DataFrame()\n",
    "for vid in range(1, 10, 1):\n",
    "    results_path = \"/Users/fireis/Documents/masters/test_07/analysis_t07_carol/test_08/t08_0000{0}.json\".format(vid)    \n",
    "    frames = read_vmaf_json(results_path)[\"frames\"]\n",
    "    df_frames = pd.DataFrame.from_dict(frames)[\"metrics\"]\n",
    "    #for frame in df_frames\n",
    "    df_frames = df_frames\n",
    "    count = 0\n",
    "    new_df = pd.DataFrame()\n",
    "    for frame in df_frames:\n",
    "        new_df = new_df.append(pd.DataFrame.from_dict(frame, orient='index').T)\n",
    "    t08_df[vid] = new_df.mean()\n",
    "t08_df = t08_df.T\n",
    "print(t08_df)\n",
    "\n",
    "\n"
   ]
  },
  {
   "cell_type": "code",
   "execution_count": 9,
   "metadata": {},
   "outputs": [
    {
     "data": {
      "text/plain": [
       "<matplotlib.axes._subplots.AxesSubplot at 0x11707b828>"
      ]
     },
     "execution_count": 9,
     "metadata": {},
     "output_type": "execute_result"
    },
    {
     "data": {
      "image/png": "[encoded data removed]",
      "text/plain": [
       "<Figure size 432x288 with 1 Axes>"
      ]
     },
     "metadata": {
      "needs_background": "light"
     },
     "output_type": "display_data"
    }
   ],
   "source": [
    "t08_df.plot.bar(y=[\"vmaf\"], title=\"Test 08 - New videos\")\n"
   ]
  },
  {
   "cell_type": "code",
   "execution_count": 10,
   "metadata": {},
   "outputs": [
    {
     "data": {
      "text/plain": [
       "<matplotlib.axes._subplots.AxesSubplot at 0x117203128>"
      ]
     },
     "execution_count": 10,
     "metadata": {},
     "output_type": "execute_result"
    },
    {
     "data": {
      "image/png": "[encoded data removed]",
      "text/plain": [
       "<Figure size 432x288 with 1 Axes>"
      ]
     },
     "metadata": {
      "needs_background": "light"
     },
     "output_type": "display_data"
    }
   ],
   "source": [
    "t08_df.plot.bar(y=\"ssim\", title=\"Test 08 - New videos\")"
   ]
  },
  {
   "cell_type": "code",
   "execution_count": null,
   "metadata": {},
   "outputs": [],
   "source": []
  }
 ],
 "metadata": {
  "kernelspec": {
   "display_name": "Python 3",
   "language": "python",
   "name": "python3"
  },
  "language_info": {
   "codemirror_mode": {
    "name": "ipython",
    "version": 3
   },
   "file_extension": ".py",
   "mimetype": "text/x-python",
   "name": "python",
   "nbconvert_exporter": "python",
   "pygments_lexer": "ipython3",
   "version": "3.6.5"
  }
 },
 "nbformat": 4,
 "nbformat_minor": 2
}
